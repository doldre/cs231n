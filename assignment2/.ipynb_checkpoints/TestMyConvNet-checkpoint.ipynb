{
 "cells": [
  {
   "cell_type": "markdown",
   "metadata": {},
   "source": [
    "# Test My Convolutional NetWork\n",
    "\n",
    "Test my convnet.py like official doing."
   ]
  },
  {
   "cell_type": "code",
   "execution_count": 5,
   "metadata": {
    "collapsed": false
   },
   "outputs": [
    {
     "name": "stdout",
     "output_type": "stream",
     "text": [
      "The autoreload extension is already loaded. To reload it, use:\n",
      "  %reload_ext autoreload\n"
     ]
    }
   ],
   "source": [
    "# as usual, a bit of set up\n",
    "\n",
    "import numpy as np\n",
    "import matplotlib.pyplot as plt\n",
    "from cs231n.classifiers.cnn import *\n",
    "from cs231n.classifiers.convnet import *\n",
    "from cs231n.data_utils import get_CIFAR10_data\n",
    "from cs231n.gradient_check import eval_numerical_gradient_array, eval_numerical_gradient\n",
    "from cs231n.layers import *\n",
    "from cs231n.fast_layers import *\n",
    "from cs231n.solver import Solver\n",
    "\n",
    "%matplotlib inline\n",
    "plt.rcParams['figure.figsize'] = (10.0, 8.0) # set default size of plots\n",
    "plt.rcParams['image.interpolation'] = 'nearest'\n",
    "plt.rcParams['image.cmap'] = 'gray'\n",
    "\n",
    "# for auto-reloading external modules\n",
    "# see http://stackoverflow.com/questions/1907993/autoreload-of-modules-in-ipython\n",
    "%load_ext autoreload\n",
    "%autoreload 2\n",
    "\n",
    "def rel_error(x, y):\n",
    "    \"\"\" returns relative error \"\"\"\n",
    "    return np.max(np.abs(x - y) / (np.maximum(1e-8, np.abs(x) + np.abs(y))))"
   ]
  },
  {
   "cell_type": "code",
   "execution_count": 4,
   "metadata": {
    "collapsed": false
   },
   "outputs": [
    {
     "name": "stdout",
     "output_type": "stream",
     "text": [
      "X_val  (1000, 3, 32, 32)\n",
      "X_train  (49000, 3, 32, 32)\n",
      "X_test  (1000, 3, 32, 32)\n",
      "y_val  (1000,)\n",
      "y_train  (49000,)\n",
      "y_test  (1000,)\n"
     ]
    }
   ],
   "source": [
    "# Load the (preprocessed) CIFAR10 data.\n",
    "\n",
    "data = get_CIFAR10_data()\n",
    "for k, v in data.iteritems():\n",
    "    print '%s ' % k, v.shape"
   ]
  },
  {
   "cell_type": "markdown",
   "metadata": {},
   "source": [
    "# Convolutional \"sandwich\" conv_bn_relu layers\n",
    "gradient check for conv_bn_relu convenience layer"
   ]
  },
  {
   "cell_type": "code",
   "execution_count": 56,
   "metadata": {
    "collapsed": false
   },
   "outputs": [
    {
     "name": "stdout",
     "output_type": "stream",
     "text": [
      "Testing conv_bn_relu\n",
      "dx error:  5.25596854489e-07\n",
      "dw error:  4.66171360942e-08\n",
      "db error:  0.0117220466107\n",
      "dgamma error:  8.22762532292e-13\n",
      "dbeta error:  4.60941124899e-12\n"
     ]
    }
   ],
   "source": [
    "from cs231n.layer_utils import conv_bn_relu_forward, conv_bn_relu_backward\n",
    "\n",
    "x = np.random.randn(2, 3, 16, 16)\n",
    "w = np.random.randn(3, 3, 3, 3)\n",
    "b = np.zeros(3,)\n",
    "dout = np.random.randn(2, 3, 16, 16)\n",
    "conv_param = {'stride': 1, 'pad': 1}\n",
    "bn_param = {'mode': 'train'}\n",
    "gamma = np.random.randn(3)\n",
    "beta = np.random.randn(3)\n",
    "\n",
    "out, cache = conv_bn_relu_forward(x, w, b, conv_param, gamma, beta, bn_param)\n",
    "dx, dw, db, dgamma, dbeta = conv_bn_relu_backward(dout, cache)\n",
    "\n",
    "dx_num = eval_numerical_gradient_array(\n",
    "    lambda x: conv_bn_relu_forward(x, w, b, conv_param, gamma, beta, bn_param)[0], x, dout)\n",
    "dw_num = eval_numerical_gradient_array(\n",
    "    lambda w: conv_bn_relu_forward(x, w, b, conv_param, gamma, beta, bn_param)[0], w, dout)\n",
    "db_num = eval_numerical_gradient_array(\n",
    "    lambda b: conv_bn_relu_forward(x, w, b, conv_param, gamma, beta, bn_param)[0], b, dout)\n",
    "dgamma_num = eval_numerical_gradient_array(\n",
    "    lambda gamma: conv_bn_relu_forward(x, w, b, conv_param, gamma, beta, bn_param)[0], gamma, dout)\n",
    "dbeta_num = eval_numerical_gradient_array(\n",
    "    lambda beta: conv_bn_relu_forward(x, w, b, conv_param, gamma, beta, bn_param)[0], beta, dout)\n",
    "\n",
    "print 'Testing conv_bn_relu'\n",
    "print 'dx error: ', rel_error(dx, dx_num)\n",
    "print 'dw error: ', rel_error(dw, dw_num)\n",
    "print 'db error: ', rel_error(db, db_num)\n",
    "print 'dgamma error: ', rel_error(dgamma, dgamma_num)\n",
    "print 'dbeta error: ', rel_error(dbeta, dbeta_num)\n"
   ]
  },
  {
   "cell_type": "code",
   "execution_count": 57,
   "metadata": {
    "collapsed": false
   },
   "outputs": [
    {
     "name": "stdout",
     "output_type": "stream",
     "text": [
      "Testing conv_bn_relu_pool\n",
      "dx error:  1.36602898509e-06\n",
      "dw error:  3.97459466099e-09\n",
      "db error:  0.00542535053123\n",
      "dgamma error:  3.94909714153e-12\n",
      "dbeta error:  3.8354556868e-12\n"
     ]
    }
   ],
   "source": [
    "# gradient check for convenience conv_bn_relu_pool layer\n",
    "\n",
    "from cs231n.layer_utils import conv_bn_relu_pool_forward, conv_bn_relu_pool_backward\n",
    "\n",
    "x = np.random.randn(2, 3, 16, 16)\n",
    "w = np.random.randn(3, 3, 3, 3)\n",
    "b = np.zeros(3,)\n",
    "dout = np.random.randn(2, 3, 8, 8)\n",
    "conv_param = {'stride': 1, 'pad': 1}\n",
    "bn_param = {'mode': 'train'}\n",
    "pool_param = {'pool_height': 2,\n",
    "              'pool_width': 2,\n",
    "              'stride': 2\n",
    "              }\n",
    "\n",
    "gamma = np.random.randn(3)\n",
    "beta = np.random.randn(3)\n",
    "\n",
    "out, cache = conv_bn_relu_pool_forward(x, w, b, conv_param, gamma, beta, bn_param, pool_param)\n",
    "dx, dw, db, dgamma, dbeta = conv_bn_relu_pool_backward(dout, cache)\n",
    "\n",
    "dx_num = eval_numerical_gradient_array(\n",
    "    lambda x: conv_bn_relu_pool_forward(x, w, b, conv_param, gamma, beta, bn_param, pool_param)[0], x, dout)\n",
    "dw_num = eval_numerical_gradient_array(\n",
    "    lambda w: conv_bn_relu_pool_forward(x, w, b, conv_param, gamma, beta, bn_param, pool_param)[0], w, dout)\n",
    "db_num = eval_numerical_gradient_array(\n",
    "    lambda b: conv_bn_relu_pool_forward(x, w, b, conv_param, gamma, beta, bn_param, pool_param)[0], b, dout)\n",
    "dgamma_num = eval_numerical_gradient_array(\n",
    "    lambda gamma: conv_bn_relu_pool_forward(x, w, b, conv_param, gamma, beta, bn_param, pool_param)[0], gamma, dout)\n",
    "dbeta_num = eval_numerical_gradient_array(\n",
    "    lambda beta: conv_bn_relu_pool_forward(x, w, b, conv_param, gamma, beta, bn_param, pool_param)[0], beta, dout)\n",
    "\n",
    "print 'Testing conv_bn_relu_pool'\n",
    "print 'dx error: ', rel_error(dx, dx_num)\n",
    "print 'dw error: ', rel_error(dw, dw_num)\n",
    "print 'db error: ', rel_error(db, db_num)\n",
    "print 'dgamma error: ', rel_error(dgamma, dgamma_num)\n",
    "print 'dbeta error: ', rel_error(dbeta, dbeta_num)"
   ]
  },
  {
   "cell_type": "code",
   "execution_count": 65,
   "metadata": {
    "collapsed": false
   },
   "outputs": [
    {
     "name": "stdout",
     "output_type": "stream",
     "text": [
      "Use batchnorm!!\n",
      "W1 max relative error: 7.485402e-07\n",
      "W2 max relative error: 1.093288e-06\n",
      "W3 max relative error: 3.576098e-05\n",
      "W4 max relative error: 3.822963e-07\n",
      "b1 max relative error: 4.358832e-09\n",
      "b2 max relative error: 3.729655e-09\n",
      "b3 max relative error: 0.000000e+00\n",
      "b4 max relative error: 4.864843e-10\n",
      "beta1 max relative error: 1.352120e-06\n",
      "beta2 max relative error: 1.311792e-05\n",
      "beta3 max relative error: 9.534530e-06\n",
      "gamma1 max relative error: 1.311353e-06\n",
      "gamma2 max relative error: 3.520516e-06\n",
      "gamma3 max relative error: 1.125616e-03\n"
     ]
    }
   ],
   "source": [
    "from cs231n.classifiers.convnet import MyConvNet\n",
    "num_inputs = 2\n",
    "input_dim = (3, 16, 16)\n",
    "reg = 0.0\n",
    "num_classes = 10\n",
    "X = np.random.randn(num_inputs, *input_dim)\n",
    "y = np.random.randint(num_classes, size=num_inputs)\n",
    "\n",
    "model = MyConvNet(num_filters=3, filter_size=3,\n",
    "                          input_dim=input_dim, hidden_dim=7,\n",
    "                          dtype=np.float64)\n",
    "loss, grads = model.loss(X, y)\n",
    "for param_name in sorted(grads):\n",
    "    f = lambda _: model.loss(X, y)[0]\n",
    "    param_grad_num = eval_numerical_gradient(f, model.params[param_name], verbose=False, h=1e-6)\n",
    "    e = rel_error(param_grad_num, grads[param_name])\n",
    "    print '%s max relative error: %e' % (param_name, rel_error(param_grad_num, grads[param_name]))"
   ]
  },
  {
   "cell_type": "markdown",
   "metadata": {},
   "source": [
    "# Test MyConvNet in small data"
   ]
  },
  {
   "cell_type": "code",
   "execution_count": 69,
   "metadata": {
    "collapsed": false
   },
   "outputs": [
    {
     "name": "stdout",
     "output_type": "stream",
     "text": [
      "Use batchnorm!!\n",
      "(Iteration 1 / 30) loss: 2.302604\n",
      "(Epoch 0 / 15) train acc: 0.210000; val_acc: 0.150000\n",
      "(Iteration 2 / 30) loss: 2.292173\n",
      "(Epoch 1 / 15) train acc: 0.250000; val_acc: 0.149000\n",
      "(Iteration 3 / 30) loss: 2.262688\n",
      "(Iteration 4 / 30) loss: 2.149409\n",
      "(Epoch 2 / 15) train acc: 0.390000; val_acc: 0.189000\n",
      "(Iteration 5 / 30) loss: 2.051751\n",
      "(Iteration 6 / 30) loss: 1.979025\n",
      "(Epoch 3 / 15) train acc: 0.430000; val_acc: 0.195000\n",
      "(Iteration 7 / 30) loss: 1.799426\n",
      "(Iteration 8 / 30) loss: 1.750837\n",
      "(Epoch 4 / 15) train acc: 0.510000; val_acc: 0.218000\n",
      "(Iteration 9 / 30) loss: 1.647292\n",
      "(Iteration 10 / 30) loss: 1.581882\n",
      "(Epoch 5 / 15) train acc: 0.630000; val_acc: 0.231000\n",
      "(Iteration 11 / 30) loss: 1.393840\n",
      "(Iteration 12 / 30) loss: 1.290368\n",
      "(Epoch 6 / 15) train acc: 0.710000; val_acc: 0.237000\n",
      "(Iteration 13 / 30) loss: 1.145174\n",
      "(Iteration 14 / 30) loss: 1.043655\n",
      "(Epoch 7 / 15) train acc: 0.790000; val_acc: 0.242000\n",
      "(Iteration 15 / 30) loss: 0.999265\n",
      "(Iteration 16 / 30) loss: 0.942043\n",
      "(Epoch 8 / 15) train acc: 0.840000; val_acc: 0.236000\n",
      "(Iteration 17 / 30) loss: 0.778428\n",
      "(Iteration 18 / 30) loss: 0.848689\n",
      "(Epoch 9 / 15) train acc: 0.860000; val_acc: 0.238000\n",
      "(Iteration 19 / 30) loss: 0.607934\n",
      "(Iteration 20 / 30) loss: 0.618788\n",
      "(Epoch 10 / 15) train acc: 0.900000; val_acc: 0.244000\n",
      "(Iteration 21 / 30) loss: 0.539294\n",
      "(Iteration 22 / 30) loss: 0.440006\n",
      "(Epoch 11 / 15) train acc: 0.910000; val_acc: 0.257000\n",
      "(Iteration 23 / 30) loss: 0.459237\n",
      "(Iteration 24 / 30) loss: 0.434408\n",
      "(Epoch 12 / 15) train acc: 0.970000; val_acc: 0.260000\n",
      "(Iteration 25 / 30) loss: 0.405565\n",
      "(Iteration 26 / 30) loss: 0.223307\n",
      "(Epoch 13 / 15) train acc: 0.990000; val_acc: 0.232000\n",
      "(Iteration 27 / 30) loss: 0.213894\n",
      "(Iteration 28 / 30) loss: 0.229044\n",
      "(Epoch 14 / 15) train acc: 0.990000; val_acc: 0.239000\n",
      "(Iteration 29 / 30) loss: 0.247279\n",
      "(Iteration 30 / 30) loss: 0.180481\n",
      "(Epoch 15 / 15) train acc: 0.990000; val_acc: 0.254000\n"
     ]
    }
   ],
   "source": [
    "num_train = 100\n",
    "small_data = {\n",
    "  'X_train': data['X_train'][:num_train],\n",
    "  'y_train': data['y_train'][:num_train],\n",
    "  'X_val': data['X_val'],\n",
    "  'y_val': data['y_val'],\n",
    "}\n",
    "\n",
    "model = MyConvNet(weight_scale=5e-4)\n",
    "\n",
    "solver = Solver(model, small_data,\n",
    "                num_epochs=15, batch_size=50,\n",
    "                update_rule='adam',\n",
    "                optim_config={\n",
    "                  'learning_rate': 1e-3,\n",
    "                },\n",
    "                verbose=True, print_every=1)\n",
    "solver.train()"
   ]
  },
  {
   "cell_type": "code",
   "execution_count": 70,
   "metadata": {
    "collapsed": false
   },
   "outputs": [
    {
     "data": {
      "image/png": "[encoded data removed]",
      "text/plain": [
       "<matplotlib.figure.Figure at 0x10cfd2e50>"
      ]
     },
     "metadata": {},
     "output_type": "display_data"
    }
   ],
   "source": [
    "plt.subplot(2, 1, 1)\n",
    "plt.plot(solver.loss_history, 'o')\n",
    "plt.xlabel('iteration')\n",
    "plt.ylabel('loss')\n",
    "\n",
    "plt.subplot(2, 1, 2)\n",
    "plt.plot(solver.train_acc_history, '-o')\n",
    "plt.plot(solver.val_acc_history, '-o')\n",
    "plt.legend(['train', 'val'], loc='upper left')\n",
    "plt.xlabel('epoch')\n",
    "plt.ylabel('accuracy')\n",
    "plt.show()"
   ]
  },
  {
   "cell_type": "markdown",
   "metadata": {},
   "source": [
    "# Train My Net"
   ]
  },
  {
   "cell_type": "code",
   "execution_count": null,
   "metadata": {
    "collapsed": true
   },
   "outputs": [],
   "source": [
    "model = MyConvNet(weight_scale=5e-4, hidden_dim=300, reg=1e-3)\n",
    "\n",
    "solver = Solver(model, data,\n",
    "                num_epochs=1, batch_size=50,\n",
    "                update_rule='adam',\n",
    "                optim_config={\n",
    "                  'learning_rate': 1e-4,\n",
    "                },\n",
    "                verbose=True, print_every=20)\n",
    "solver.train()"
   ]
  }
 ],
 "metadata": {
  "kernelspec": {
   "display_name": "Python 2",
   "language": "python",
   "name": "python2"
  },
  "language_info": {
   "codemirror_mode": {
    "name": "ipython",
    "version": 2
   },
   "file_extension": ".py",
   "mimetype": "text/x-python",
   "name": "python",
   "nbconvert_exporter": "python",
   "pygments_lexer": "ipython2",
   "version": "2.7.13"
  }
 },
 "nbformat": 4,
 "nbformat_minor": 0
}
