{
 "cells": [
  {
   "cell_type": "raw",
   "metadata": {},
   "source": [
    "##### Softmax exercise\n",
    "\n",
    "*Complete and hand in this completed worksheet (including its outputs and any supporting code outside of the worksheet) with your assignment submission. For more details see the [assignments page](http://vision.stanford.edu/teaching/cs231n/assignments.html) on the course website.*\n",
    "\n",
    "This exercise is analogous to the SVM exercise. You will:\n",
    "\n",
    "- implement a fully-vectorized **loss function** for the Softmax classifier\n",
    "- implement the fully-vectorized expression for its **analytic gradient**\n",
    "- **check your implementation** with numerical gradient\n",
    "- use a validation set to **tune the learning rate and regularization** strength\n",
    "- **optimize** the loss function with **SGD**\n",
    "- **visualize** the final learned weights\n"
   ]
  },
  {
   "cell_type": "code",
   "execution_count": 5,
   "metadata": {
    "collapsed": false
   },
   "outputs": [
    {
     "name": "stdout",
     "output_type": "stream",
     "text": [
      "The autoreload extension is already loaded. To reload it, use:\n",
      "  %reload_ext autoreload\n"
     ]
    }
   ],
   "source": [
    "import random\n",
    "import numpy as np\n",
    "from cs231n.data_utils import load_CIFAR10\n",
    "import matplotlib.pyplot as plt\n",
    "%matplotlib inline\n",
    "plt.rcParams['figure.figsize'] = (10.0, 8.0) # set default size of plots\n",
    "plt.rcParams['image.interpolation'] = 'nearest'\n",
    "plt.rcParams['image.cmap'] = 'gray'\n",
    "\n",
    "# for auto-reloading extenrnal modules\n",
    "# see http://stackoverflow.com/questions/1907993/autoreload-of-modules-in-ipython\n",
    "%load_ext autoreload\n",
    "%autoreload 2"
   ]
  },
  {
   "cell_type": "code",
   "execution_count": 6,
   "metadata": {
    "collapsed": false
   },
   "outputs": [
    {
     "name": "stdout",
     "output_type": "stream",
     "text": [
      "Train data shape:  (49000, 3073)\n",
      "Train labels shape:  (49000,)\n",
      "Validation data shape:  (1000, 3073)\n",
      "Validation labels shape:  (1000,)\n",
      "Test data shape:  (1000, 3073)\n",
      "Test labels shape:  (1000,)\n",
      "dev data shape:  (500, 3073)\n",
      "dev labels shape:  (500,)\n"
     ]
    }
   ],
   "source": [
    "def get_CIFAR10_data(num_training=49000, num_validation=1000, num_test=1000, num_dev=500):\n",
    "  \"\"\"\n",
    "  Load the CIFAR-10 dataset from disk and perform preprocessing to prepare\n",
    "  it for the linear classifier. These are the same steps as we used for the\n",
    "  SVM, but condensed to a single function.  \n",
    "  \"\"\"\n",
    "  # Load the raw CIFAR-10 data\n",
    "  cifar10_dir = 'cs231n/datasets/cifar-10-batches-py'\n",
    "  X_train, y_train, X_test, y_test = load_CIFAR10(cifar10_dir)\n",
    "  \n",
    "  # subsample the data\n",
    "  mask = range(num_training, num_training + num_validation)\n",
    "  X_val = X_train[mask]\n",
    "  y_val = y_train[mask]\n",
    "  mask = range(num_training)\n",
    "  X_train = X_train[mask]\n",
    "  y_train = y_train[mask]\n",
    "  mask = range(num_test)\n",
    "  X_test = X_test[mask]\n",
    "  y_test = y_test[mask]\n",
    "  mask = np.random.choice(num_training, num_dev, replace=False)\n",
    "  X_dev = X_train[mask]\n",
    "  y_dev = y_train[mask]\n",
    "  \n",
    "  # Preprocessing: reshape the image data into rows\n",
    "  X_train = np.reshape(X_train, (X_train.shape[0], -1))\n",
    "  X_val = np.reshape(X_val, (X_val.shape[0], -1))\n",
    "  X_test = np.reshape(X_test, (X_test.shape[0], -1))\n",
    "  X_dev = np.reshape(X_dev, (X_dev.shape[0], -1))\n",
    "  \n",
    "  # Normalize the data: subtract the mean image\n",
    "  mean_image = np.mean(X_train, axis = 0)\n",
    "  X_train -= mean_image\n",
    "  X_val -= mean_image\n",
    "  X_test -= mean_image\n",
    "  X_dev -= mean_image\n",
    "  \n",
    "  # add bias dimension and transform into columns\n",
    "  X_train = np.hstack([X_train, np.ones((X_train.shape[0], 1))])\n",
    "  X_val = np.hstack([X_val, np.ones((X_val.shape[0], 1))])\n",
    "  X_test = np.hstack([X_test, np.ones((X_test.shape[0], 1))])\n",
    "  X_dev = np.hstack([X_dev, np.ones((X_dev.shape[0], 1))])\n",
    "  \n",
    "  return X_train, y_train, X_val, y_val, X_test, y_test, X_dev, y_dev\n",
    "\n",
    "\n",
    "# Invoke the above function to get our data.\n",
    "X_train, y_train, X_val, y_val, X_test, y_test, X_dev, y_dev = get_CIFAR10_data()\n",
    "print 'Train data shape: ', X_train.shape\n",
    "print 'Train labels shape: ', y_train.shape\n",
    "print 'Validation data shape: ', X_val.shape\n",
    "print 'Validation labels shape: ', y_val.shape\n",
    "print 'Test data shape: ', X_test.shape\n",
    "print 'Test labels shape: ', y_test.shape\n",
    "print 'dev data shape: ', X_dev.shape\n",
    "print 'dev labels shape: ', y_dev.shape"
   ]
  },
  {
   "cell_type": "markdown",
   "metadata": {},
   "source": [
    "## Softmax Classifier\n",
    "\n",
    "Your code for this section will all be written inside **cs231n/classifiers/softmax.py**. \n"
   ]
  },
  {
   "cell_type": "code",
   "execution_count": 84,
   "metadata": {
    "collapsed": false
   },
   "outputs": [
    {
     "name": "stdout",
     "output_type": "stream",
     "text": [
      "loss: 2.405538\n",
      "sanity check: 2.302585\n"
     ]
    }
   ],
   "source": [
    "# First implement the naive softmax loss function with nested loops.\n",
    "# Open the file cs231n/classifiers/softmax.py and implement the\n",
    "# softmax_loss_naive function.\n",
    "\n",
    "from cs231n.classifiers.softmax import softmax_loss_naive\n",
    "import time\n",
    "\n",
    "# Generate a random softmax weight matrix and use it to compute the loss.\n",
    "W = np.random.randn(3073, 10) * 0.0001\n",
    "loss, grad = softmax_loss_naive(W, X_dev, y_dev, 0.0)\n",
    "\n",
    "# As a rough sanity check, our loss should be something close to -log(0.1).\n",
    "print 'loss: %f' % loss\n",
    "print 'sanity check: %f' % (-np.log(0.1))"
   ]
  },
  {
   "cell_type": "markdown",
   "metadata": {},
   "source": [
    "## Inline Question 1:\n",
    "Why do we expect our loss to be close to -log(0.1)? Explain briefly.**\n",
    "\n",
    "**Your answer:** *Fill this in*\n",
    "Because W is random. So every class's probability is 0.1"
   ]
  },
  {
   "cell_type": "code",
   "execution_count": 85,
   "metadata": {
    "collapsed": false
   },
   "outputs": [
    {
     "name": "stdout",
     "output_type": "stream",
     "text": [
      "numerical: -1.535866 analytic: -1.535866, relative error: 4.088149e-08\n",
      "numerical: 0.207062 analytic: 0.207062, relative error: 1.728396e-07\n",
      "numerical: 3.025813 analytic: 3.025813, relative error: 3.152753e-09\n",
      "numerical: -1.808972 analytic: -1.808972, relative error: 1.214008e-09\n",
      "numerical: 2.944610 analytic: 2.944610, relative error: 5.208037e-09\n",
      "numerical: -0.678890 analytic: -0.678890, relative error: 9.907323e-08\n",
      "numerical: 0.155124 analytic: 0.155124, relative error: 2.797947e-07\n",
      "numerical: -2.611897 analytic: -2.611897, relative error: 2.109253e-08\n",
      "numerical: -1.470115 analytic: -1.470115, relative error: 3.337902e-08\n",
      "numerical: 6.432863 analytic: 6.432863, relative error: 1.561340e-08\n",
      "numerical: 1.830527 analytic: 1.830527, relative error: 9.046129e-09\n",
      "numerical: -0.083271 analytic: -0.083271, relative error: 2.192832e-07\n",
      "numerical: 0.626798 analytic: 0.626798, relative error: 2.055779e-08\n",
      "numerical: 1.301124 analytic: 1.301124, relative error: 4.972787e-09\n",
      "numerical: -0.595744 analytic: -0.595744, relative error: 2.433231e-08\n",
      "numerical: 2.359309 analytic: 2.359309, relative error: 9.489325e-10\n",
      "numerical: -1.936727 analytic: -1.936727, relative error: 7.471577e-10\n",
      "numerical: 3.821066 analytic: 3.821066, relative error: 1.671286e-08\n",
      "numerical: -0.165909 analytic: -0.165909, relative error: 5.191618e-08\n",
      "numerical: -1.167037 analytic: -1.167037, relative error: 1.299132e-08\n"
     ]
    }
   ],
   "source": [
    "# Complete the implementation of softmax_loss_naive and implement a (naive)\n",
    "# version of the gradient that uses nested loops.\n",
    "loss, grad = softmax_loss_naive(W, X_dev, y_dev, 0.0)\n",
    "\n",
    "# As we did for the SVM, use numeric gradient checking as a debugging tool.\n",
    "# The numeric gradient should be close to the analytic gradient.\n",
    "from cs231n.gradient_check import grad_check_sparse\n",
    "f = lambda w: softmax_loss_naive(w, X_dev, y_dev, 0.0)[0]\n",
    "grad_numerical = grad_check_sparse(f, W, grad, 10)\n",
    "\n",
    "# similar to SVM case, do another gradient check with regularization\n",
    "loss, grad = softmax_loss_naive(W, X_dev, y_dev, 1e2)\n",
    "f = lambda w: softmax_loss_naive(w, X_dev, y_dev, 1e2)[0]\n",
    "grad_numerical = grad_check_sparse(f, W, grad, 10)"
   ]
  },
  {
   "cell_type": "code",
   "execution_count": 96,
   "metadata": {
    "collapsed": false
   },
   "outputs": [
    {
     "name": "stdout",
     "output_type": "stream",
     "text": [
      "naive loss: 2.405538e+00 computed in 0.138727s\n",
      "vectorized loss: 2.405538e+00 computed in 0.007745s\n",
      "Loss difference: 0.000000\n",
      "Gradient difference: 0.000000\n"
     ]
    }
   ],
   "source": [
    "# Now that we have a naive implementation of the softmax loss function and its gradient,\n",
    "# implement a vectorized version in softmax_loss_vectorized.\n",
    "# The two versions should compute the same results, but the vectorized version should be\n",
    "# much faster.\n",
    "tic = time.time()\n",
    "loss_naive, grad_naive = softmax_loss_naive(W, X_dev, y_dev, 0.00001)\n",
    "toc = time.time()\n",
    "print 'naive loss: %e computed in %fs' % (loss_naive, toc - tic)\n",
    "\n",
    "from cs231n.classifiers.softmax import softmax_loss_vectorized\n",
    "tic = time.time()\n",
    "loss_vectorized, grad_vectorized = softmax_loss_vectorized(W, X_dev, y_dev, 0.00001)\n",
    "toc = time.time()\n",
    "print 'vectorized loss: %e computed in %fs' % (loss_vectorized, toc - tic)\n",
    "\n",
    "# As we did for the SVM, we use the Frobenius norm to compare the two versions\n",
    "# of the gradient.\n",
    "grad_difference = np.linalg.norm(grad_naive - grad_vectorized, ord='fro')\n",
    "print 'Loss difference: %f' % np.abs(loss_naive - loss_vectorized)\n",
    "print 'Gradient difference: %f' % grad_difference"
   ]
  },
  {
   "cell_type": "code",
   "execution_count": 120,
   "metadata": {
    "collapsed": false
   },
   "outputs": [
    {
     "name": "stdout",
     "output_type": "stream",
     "text": [
      "iteration 0 / 1000: loss 6.845538\n",
      "iteration 100 / 1000: loss 5.460444\n",
      "iteration 200 / 1000: loss 5.358069\n",
      "iteration 300 / 1000: loss 4.884569\n",
      "iteration 400 / 1000: loss 4.452163\n",
      "iteration 500 / 1000: loss 4.395914\n",
      "iteration 600 / 1000: loss 4.360851\n",
      "iteration 700 / 1000: loss 4.387382\n",
      "iteration 800 / 1000: loss 4.451396\n",
      "iteration 900 / 1000: loss 4.181518\n",
      "iteration 0 / 1000: loss 20.983359\n",
      "iteration 100 / 1000: loss 18.983726\n",
      "iteration 200 / 1000: loss 18.166637\n",
      "iteration 300 / 1000: loss 17.507069\n",
      "iteration 400 / 1000: loss 17.077665\n",
      "iteration 500 / 1000: loss 16.945886\n",
      "iteration 600 / 1000: loss 16.603917\n",
      "iteration 700 / 1000: loss 16.197993\n",
      "iteration 800 / 1000: loss 15.829147\n",
      "iteration 900 / 1000: loss 15.511635\n",
      "iteration 0 / 1000: loss 774.009269\n",
      "iteration 100 / 1000: loss 283.796383\n",
      "iteration 200 / 1000: loss 104.976529\n",
      "iteration 300 / 1000: loss 39.825522\n",
      "iteration 400 / 1000: loss 15.890107\n",
      "iteration 500 / 1000: loss 7.114384\n",
      "iteration 600 / 1000: loss 3.926743\n",
      "iteration 700 / 1000: loss 2.829575\n",
      "iteration 800 / 1000: loss 2.268334\n",
      "iteration 900 / 1000: loss 2.158625\n",
      "iteration 0 / 1000: loss 7.047495\n",
      "iteration 100 / 1000: loss 4.622403\n",
      "iteration 200 / 1000: loss 4.123581\n",
      "iteration 300 / 1000: loss 3.895634\n",
      "iteration 400 / 1000: loss 3.887593\n",
      "iteration 500 / 1000: loss 3.741636\n",
      "iteration 600 / 1000: loss 3.684776\n",
      "iteration 700 / 1000: loss 3.507291\n",
      "iteration 800 / 1000: loss 3.875690\n",
      "iteration 900 / 1000: loss 3.432396\n",
      "iteration 0 / 1000: loss 21.090849\n",
      "iteration 100 / 1000: loss 16.766416\n",
      "iteration 200 / 1000: loss 15.153315\n",
      "iteration 300 / 1000: loss 13.546589\n",
      "iteration 400 / 1000: loss 12.325822\n",
      "iteration 500 / 1000: loss 11.348564\n",
      "iteration 600 / 1000: loss 10.416544\n",
      "iteration 700 / 1000: loss 9.376965\n",
      "iteration 800 / 1000: loss 8.697041\n",
      "iteration 900 / 1000: loss 7.991240\n",
      "iteration 0 / 1000: loss 772.938266\n",
      "iteration 100 / 1000: loss 6.868647\n",
      "iteration 200 / 1000: loss 2.115755\n",
      "iteration 300 / 1000: loss 2.058178\n",
      "iteration 400 / 1000: loss 2.092520\n",
      "iteration 500 / 1000: loss 2.107738\n",
      "iteration 600 / 1000: loss 2.089438\n",
      "iteration 700 / 1000: loss 2.166000\n",
      "iteration 800 / 1000: loss 2.159085\n",
      "iteration 900 / 1000: loss 2.069451\n",
      "iteration 0 / 1000: loss 7.553467\n",
      "iteration 100 / 1000: loss inf\n",
      "iteration 200 / 1000: loss inf\n",
      "iteration 300 / 1000: loss inf\n",
      "iteration 400 / 1000: loss inf\n",
      "iteration 500 / 1000: loss inf\n",
      "iteration 600 / 1000: loss inf\n",
      "iteration 700 / 1000: loss inf\n",
      "iteration 800 / 1000: loss inf\n",
      "iteration 900 / 1000: loss inf\n",
      "iteration 0 / 1000: loss 21.094608\n",
      "iteration 100 / 1000: loss inf\n",
      "iteration 200 / 1000: loss inf\n",
      "iteration 300 / 1000: loss inf\n"
     ]
    },
    {
     "name": "stderr",
     "output_type": "stream",
     "text": [
      "cs231n/classifiers/softmax.py:75: RuntimeWarning: overflow encountered in subtract\n",
      "  scores -= scores.max(axis=1)[:, np.newaxis]\n",
      "cs231n/classifiers/softmax.py:75: RuntimeWarning: invalid value encountered in subtract\n",
      "  scores -= scores.max(axis=1)[:, np.newaxis]\n"
     ]
    },
    {
     "name": "stdout",
     "output_type": "stream",
     "text": [
      "iteration 400 / 1000: loss nan\n",
      "iteration 500 / 1000: loss nan\n",
      "iteration 600 / 1000: loss nan\n",
      "iteration 700 / 1000: loss nan\n",
      "iteration 800 / 1000: loss nan\n",
      "iteration 900 / 1000: loss nan\n",
      "iteration 0 / 1000: loss 782.618550\n",
      "iteration 100 / 1000: loss inf\n",
      "iteration 200 / 1000: loss nan\n",
      "iteration 300 / 1000: loss nan\n",
      "iteration 400 / 1000: loss nan\n",
      "iteration 500 / 1000: loss nan\n",
      "iteration 600 / 1000: loss nan\n",
      "iteration 700 / 1000: loss nan\n",
      "iteration 800 / 1000: loss nan\n",
      "iteration 900 / 1000: loss nan\n",
      "lr 1.000000e-07 reg 1.000000e+02 train accuracy: 0.234143 val accuracy: 0.240000\n",
      "lr 1.000000e-07 reg 1.000000e+03 train accuracy: 0.236551 val accuracy: 0.238000\n",
      "lr 1.000000e-07 reg 5.000000e+04 train accuracy: 0.328000 val accuracy: 0.340000\n",
      "lr 5.000000e-07 reg 1.000000e+02 train accuracy: 0.297633 val accuracy: 0.320000\n",
      "lr 5.000000e-07 reg 1.000000e+03 train accuracy: 0.329510 val accuracy: 0.348000\n",
      "lr 5.000000e-07 reg 5.000000e+04 train accuracy: 0.329714 val accuracy: 0.345000\n",
      "lr 1.000000e-02 reg 1.000000e+02 train accuracy: 0.144694 val accuracy: 0.145000\n",
      "lr 1.000000e-02 reg 1.000000e+03 train accuracy: 0.100265 val accuracy: 0.087000\n",
      "lr 1.000000e-02 reg 5.000000e+04 train accuracy: 0.100265 val accuracy: 0.087000\n",
      "best validation accuracy achieved during cross-validation: 0.348000\n"
     ]
    }
   ],
   "source": [
    "# Use the validation set to tune hyperparameters (regularization strength and\n",
    "# learning rate). You should experiment with different ranges for the learning\n",
    "# rates and regularization strengths; if you are careful you should be able to\n",
    "# get a classification accuracy of over 0.35 on the validation set.\n",
    "from cs231n.classifiers import Softmax\n",
    "results = {}\n",
    "best_val = -1\n",
    "best_softmax = None\n",
    "learning_rates = [1e-7, 5e-7]\n",
    "regularization_strengths = [ 5e4]\n",
    "\n",
    "################################################################################\n",
    "# TODO:                                                                        #\n",
    "# Use the validation set to set the learning rate and regularization strength. #\n",
    "# This should be identical to the validation that you did for the SVM; save    #\n",
    "# the best trained softmax classifer in best_softmax.                          #\n",
    "################################################################################\n",
    "for lr in learning_rates:\n",
    "    for reg in regularization_strengths:\n",
    "        cur_softmax = Softmax()\n",
    "        cur_softmax.train(X_train, y_train, learning_rate=lr, reg=reg, \n",
    "                          num_iters=1000, verbose=True)\n",
    "        pred_train = cur_softmax.predict(X_train)\n",
    "        pred_val = cur_softmax.predict(X_val)\n",
    "        train_accuracy = np.mean(pred_train == y_train)\n",
    "        val_accuracy = np.mean(pred_val == y_val)\n",
    "        results[(lr, reg)] = train_accuracy, val_accuracy\n",
    "        if val_accuracy > best_val:\n",
    "            best_val = val_accuracy\n",
    "            best_softmax = cur_softmax\n",
    "################################################################################\n",
    "#                              END OF YOUR CODE                                #\n",
    "################################################################################\n",
    "    \n",
    "# Print out results.\n",
    "for lr, reg in sorted(results):\n",
    "    train_accuracy, val_accuracy = results[(lr, reg)]\n",
    "    print 'lr %e reg %e train accuracy: %f val accuracy: %f' % (\n",
    "                lr, reg, train_accuracy, val_accuracy)\n",
    "    \n",
    "print 'best validation accuracy achieved during cross-validation: %f' % best_val"
   ]
  },
  {
   "cell_type": "code",
   "execution_count": 121,
   "metadata": {
    "collapsed": false
   },
   "outputs": [
    {
     "name": "stdout",
     "output_type": "stream",
     "text": [
      "softmax on raw pixels final test set accuracy: 0.304000\n"
     ]
    }
   ],
   "source": [
    "# evaluate on test set\n",
    "# Evaluate the best softmax on test set\n",
    "y_test_pred = best_softmax.predict(X_test)\n",
    "test_accuracy = np.mean(y_test == y_test_pred)\n",
    "print 'softmax on raw pixels final test set accuracy: %f' % (test_accuracy, )"
   ]
  },
  {
   "cell_type": "code",
   "execution_count": 122,
   "metadata": {
    "collapsed": false
   },
   "outputs": [
    {
     "data": {
      "image/png": "[encoded data removed]",
      "text/plain": [
       "<matplotlib.figure.Figure at 0x1157d4050>"
      ]
     },
     "metadata": {},
     "output_type": "display_data"
    }
   ],
   "source": [
    "# Visualize the learned weights for each class\n",
    "w = best_softmax.W[:-1,:] # strip out the bias\n",
    "w = w.reshape(32, 32, 3, 10)\n",
    "\n",
    "w_min, w_max = np.min(w), np.max(w)\n",
    "\n",
    "classes = ['plane', 'car', 'bird', 'cat', 'deer', 'dog', 'frog', 'horse', 'ship', 'truck']\n",
    "for i in xrange(10):\n",
    "  plt.subplot(2, 5, i + 1)\n",
    "  \n",
    "  # Rescale the weights to be between 0 and 255\n",
    "  wimg = 255.0 * (w[:, :, :, i].squeeze() - w_min) / (w_max - w_min)\n",
    "  plt.imshow(wimg.astype('uint8'))\n",
    "  plt.axis('off')\n",
    "  plt.title(classes[i])"
   ]
  },
  {
   "cell_type": "code",
   "execution_count": null,
   "metadata": {
    "collapsed": true
   },
   "outputs": [],
   "source": []
  }
 ],
 "metadata": {
  "kernelspec": {
   "display_name": "Python 2",
   "language": "python",
   "name": "python2"
  },
  "language_info": {
   "codemirror_mode": {
    "name": "ipython",
    "version": 2
   },
   "file_extension": ".py",
   "mimetype": "text/x-python",
   "name": "python",
   "nbconvert_exporter": "python",
   "pygments_lexer": "ipython2",
   "version": "2.7.13"
  }
 },
 "nbformat": 4,
 "nbformat_minor": 0
}
